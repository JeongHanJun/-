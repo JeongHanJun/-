{
  "nbformat": 4,
  "nbformat_minor": 0,
  "metadata": {
    "colab": {
      "name": "MNIST_DNN.ipynb",
      "provenance": [],
      "private_outputs": true,
      "collapsed_sections": [],
      "authorship_tag": "ABX9TyMs2m22QDRE0nIKF7QRkZaZ",
      "include_colab_link": true
    },
    "kernelspec": {
      "name": "python3",
      "display_name": "Python 3"
    }
  },
  "cells": [
    {
      "cell_type": "markdown",
      "metadata": {
        "id": "view-in-github",
        "colab_type": "text"
      },
      "source": [
        "<a href=\"https://colab.research.google.com/github/JeongHanJun/-/blob/master/MNIST_DNN.ipynb\" target=\"_parent\"><img src=\"https://colab.research.google.com/assets/colab-badge.svg\" alt=\"Open In Colab\"/></a>"
      ]
    },
    {
      "cell_type": "code",
      "metadata": {
        "id": "IKnHbv2ic4-P"
      },
      "source": [
        "import tensorflow as tf\n",
        "import matplotlib as plt\n",
        "import numpy as np\n",
        "from tensorflow.examples.tutorials.mnist import input_data\n",
        "mnist = input_data.read_data_sets(\"./mnist/data\", one_hot = True)\n",
        "\n",
        "#신경망 모델 구성\n",
        "x = tf.placeholder(tf.float32, [None, 784])\n",
        "y = tf.placeholder(tf.float32, [None, 10])\n",
        "\n",
        "w1 = tf.Variable(tf.random.normal([784, 256], stddev = 0.01))\n",
        "l1 = tf.nn.relu(tf.matmul(x, w1))\n",
        "\n",
        "w2 = tf.Variable(tf.random.normal([256, 64], stddev = 0.01))\n",
        "l2 = tf.nn.relu(tf.matmul(x, w2))\n",
        "\n",
        "w3 = tf.Variable(tf.random.normal([64, 10], stddev = 0.01))\n",
        "\n",
        "model = tf.matmul(l2, w3)\n",
        "\n",
        "#교차 엔트로피 cost func\n",
        "cost = tf.reduce_mean(tf.nn.softmax_cross_entropy_with_logits(logits = model, labels = y)\n",
        "\n",
        "#손실 최소화를 위한 최적화\n",
        "optimizer = tf.train.AdamOptimizer(0.001).minimize(cost)\n",
        "\n",
        "# Operate Model with using a session\n",
        "init = tf.global_variable_initializer()\n",
        "sess = tf.Session()\n",
        "sess.run(init)\n",
        "\n",
        "# divide data into 100 unit\n",
        "batch_size =100\n",
        "total_batch = int(mnist.train.num_examples / batch_size)\n",
        "\n",
        "# 10 times run for learning\n",
        "\n",
        "for epoch in range(10):\n",
        "    total_cost = 0\n",
        "    for i in range(total_batch):\n",
        "        batch_x, batch_y  = mnist.train.next_batch(batch_size)\n",
        "        _, cost_val = sess.run([optimizer, cost], feed_dict = {x : batch_x, y : batch_y})\n",
        "        total_cost += cost.val\n",
        "    print( '반복:', '%04d' % (epoch+1), '평균 소실값: ', '{:.4f}'.format(total_cost / total_batch))\n",
        "    print(\"학습완료\")\n",
        "\n",
        "    is_correct = tf.equal(tf.argmax(model, 1), tf.argmax(y, 1))\n",
        "    accuracy = tf.reduce.mean(tf.cast(is_correct, tf_float32))\n",
        "    print(\"정확도:\", sess.run(accuracy, feed_dict={x: mnist.test.images, y: mnist.test.labels}))\n",
        "\n",
        "    labels = sess.run(model, feed_dict = {x: mnist.test.images, y = mnist.test.labels})\n",
        "\n",
        "    fig = plt.figure()\n",
        "    fig.subplots_adjust(left = 0, bottom = 0, right = 1, top = 1, wspace = 1, hspace = 1)\n",
        "    for i in range(20):\n",
        "        subplot = fig.add_subplot(4, 5, i+1)\n",
        "        subplot.set_xticks([])\n",
        "        subplot.set_yticks([])\n",
        "        subplot.set_title(\"%d\" % np.argmax(labels[i]))\n",
        "        subplot.imshow(mnist.test.images[i].reshapce((28, 28)), cmap = plt.cm.gray_r)\n",
        "        plt.show()\n",
        "\n",
        "        \n",
        "\n"
      ],
      "execution_count": null,
      "outputs": []
    }
  ]
}